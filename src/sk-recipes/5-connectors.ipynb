{
 "cells": [
  {
   "cell_type": "code",
   "execution_count": null,
   "metadata": {
    "dotnet_interactive": {
     "language": "csharp"
    },
    "polyglot_notebook": {
     "kernelName": "csharp"
    },
    "vscode": {
     "languageId": "polyglot-notebook"
    }
   },
   "outputs": [],
   "source": [
    "#r \"nuget: Microsoft.SemanticKernel, 1.4.0\"\n",
    "\n",
    "#!import ./config/Settings.cs\n",
    "\n",
    "using Microsoft.SemanticKernel;\n",
    "using System.IO;\n",
    "\n",
    "var kernelBuilder = Microsoft.SemanticKernel.Kernel.CreateBuilder();\n",
    "\n",
    "// Grab the locally stored credentials from the settings.json file. \n",
    "// Name the service as \"davinci\" — assuming that you're using one of the davinci completion models. \n",
    "var (useAzureOpenAI, model, azureEndpoint, apiKey, orgId) = Settings.LoadFromFile();\n",
    "\n",
    "if (useAzureOpenAI)\n",
    "    kernelBuilder.AddAzureOpenAIChatCompletion(model, azureEndpoint, apiKey);\n",
    "else\n",
    "    kernelBuilder.AddOpenAIChatCompletion(model, apiKey, orgId);\n",
    "\n",
    "var kernel = kernelBuilder.Build();"
   ]
  },
  {
   "cell_type": "code",
   "execution_count": null,
   "metadata": {
    "dotnet_interactive": {
     "language": "csharp"
    },
    "polyglot_notebook": {
     "kernelName": "csharp"
    },
    "vscode": {
     "languageId": "polyglot-notebook"
    }
   },
   "outputs": [],
   "source": [
    "#r \"nuget: Microsoft.SemanticKernel.Plugins.Web, 1.4.0-alpha\"\n",
    "\n",
    "using Microsoft.SemanticKernel.Plugins.Web;\n",
    "using Microsoft.SemanticKernel.Plugins.Web.Bing;\n",
    "using InteractiveKernel = Microsoft.DotNet.Interactive.Kernel;\n",
    "\n",
    "#pragma warning disable SKEXP0054\n",
    "\n",
    "// Load Bing plugin\n",
    "var bingApiKey = (await InteractiveKernel.GetPasswordAsync(\"Please enter your Bing Search API key\")).GetClearTextPassword();\n",
    "var bingConnector = new BingConnector(bingApiKey);\n",
    "\n",
    "kernel.ImportPluginFromObject(new WebSearchEnginePlugin(bingConnector), \"bing\");"
   ]
  },
  {
   "cell_type": "code",
   "execution_count": null,
   "metadata": {
    "vscode": {
     "languageId": "polyglot-notebook"
    }
   },
   "outputs": [],
   "source": [
    "var web = kernel.Plugins[\"bing\"][\"search\"];\n",
    "\n",
    "var bingResult = await kernel.InvokeAsync(web, new(){ [\"query\"] = \"What's the tallest building in NYC?\" });\n",
    "Console.WriteLine(bingResult);"
   ]
  }
 ],
 "metadata": {
  "language_info": {
   "name": "python"
  }
 },
 "nbformat": 4,
 "nbformat_minor": 2
}
