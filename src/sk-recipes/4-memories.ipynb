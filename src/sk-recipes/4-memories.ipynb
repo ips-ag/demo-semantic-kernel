{
 "cells": [
  {
   "cell_type": "code",
   "execution_count": null,
   "metadata": {
    "vscode": {
     "languageId": "polyglot-notebook"
    }
   },
   "outputs": [],
   "source": [
    "#r \"nuget: Microsoft.SemanticKernel, 1.4.0\"\n",
    "#r \"nuget: Microsoft.SemanticKernel.Plugins.Memory, 1.4.0-alpha\"\n",
    "\n",
    "#!import ./config/Settings.cs\n",
    "\n",
    "using Microsoft.SemanticKernel;\n",
    "using Microsoft.SemanticKernel.Memory;\n",
    "using Microsoft.SemanticKernel.Connectors.OpenAI;\n",
    "using System.IO;\n",
    "\n",
    "#pragma warning disable SKEXP0011, SKEXP0003, SKEXP0052\n",
    "\n",
    "var kernelBuilder = Microsoft.SemanticKernel.Kernel.CreateBuilder();\n",
    "var memoryBuilder = new MemoryBuilder();\n",
    "\n",
    "// Grab the locally stored credentials from the settings.json file. \n",
    "// Name the service as \"davinci\" — assuming that you're using one of the davinci completion models. \n",
    "var (useAzureOpenAI, model, azureEndpoint, apiKey, orgId) = Settings.LoadFromFile();\n",
    "\n",
    "if (useAzureOpenAI)\n",
    "{\n",
    "    kernelBuilder.AddAzureOpenAIChatCompletion(model, azureEndpoint, apiKey);\n",
    "    memoryBuilder.WithAzureOpenAITextEmbeddingGeneration(\"text-embedding-ada-002\", azureEndpoint, apiKey)\n",
    "        .WithMemoryStore(new VolatileMemoryStore());\n",
    "}\n",
    "else\n",
    "{\n",
    "    kernelBuilder.AddOpenAIChatCompletion(model, apiKey, orgId);\n",
    "    memoryBuilder.WithOpenAITextEmbeddingGeneration(\"text-embedding-ada-002\", apiKey, orgId)\n",
    "        .WithMemoryStore(new VolatileMemoryStore());\n",
    "}\n",
    "\n",
    "var kernel = kernelBuilder.Build();\n",
    "var memory = memoryBuilder.Build();"
   ]
  },
  {
   "cell_type": "code",
   "execution_count": null,
   "metadata": {
    "dotnet_interactive": {
     "language": "csharp"
    },
    "polyglot_notebook": {
     "kernelName": "csharp"
    },
    "vscode": {
     "languageId": "polyglot-notebook"
    }
   },
   "outputs": [],
   "source": [
    "const string memoryCollectionName = \"Facts About Me\";\n",
    "\n",
    "await memory.SaveInformationAsync(\n",
    "    collection: memoryCollectionName,\n",
    "    id: \"LinkedIn Bio\",\n",
    "    text: \"I currently work in the hotel industry at the front desk. I won the best team player award.\");\n",
    "\n",
    "await memory.SaveInformationAsync(\n",
    "    collection: memoryCollectionName,\n",
    "    id: \"LinkedIn History\",\n",
    "    text: \"I have worked as a tourist operator for 8 years. I have also worked as a banking associate for 3 years.\");\n",
    "\n",
    "await memory.SaveInformationAsync(\n",
    "    collection: memoryCollectionName,\n",
    "    id: \"Recent Facebook Post\",\n",
    "    text: \"My new dog Trixie is the cutest thing you've ever seen. She's just 2 years old.\");\n",
    "\n",
    "await memory.SaveInformationAsync(\n",
    "    collection: memoryCollectionName,\n",
    "    id: \"Old Facebook Post\",\n",
    "    text: \"Can you believe the size of the trees in Yellowstone? They're huge! I'm so committed to forestry concerns.\");\n",
    "\n",
    "Console.WriteLine(\"Four GIGANTIC vectors were generated just now from those 4 pieces of text above.\");"
   ]
  },
  {
   "cell_type": "code",
   "execution_count": null,
   "metadata": {
    "dotnet_interactive": {
     "language": "csharp"
    },
    "polyglot_notebook": {
     "kernelName": "csharp"
    },
    "vscode": {
     "languageId": "polyglot-notebook"
    }
   },
   "outputs": [],
   "source": [
    "var executionSettings = new OpenAIPromptExecutionSettings{ MaxTokens= 100, Temperature = 0.8, TopP= 1 };\n",
    "var myFunction = kernel.CreateFunctionFromPrompt(@\"\n",
    "Tell me about me and {{$input}} in less than 70 characters.\", executionSettings);\n",
    "var result = await kernel.InvokeAsync(myFunction, new(){ [\"input\"] = \"my work history\" });\n",
    "Console.WriteLine(result);"
   ]
  },
  {
   "cell_type": "code",
   "execution_count": null,
   "metadata": {
    "dotnet_interactive": {
     "language": "csharp"
    },
    "polyglot_notebook": {
     "kernelName": "csharp"
    },
    "vscode": {
     "languageId": "polyglot-notebook"
    }
   },
   "outputs": [],
   "source": [
    "#pragma warning disable SKEXP0003\n",
    "\n",
    "string ask = \"Tell me about me and my work history.\";\n",
    "var relatedMemory = \"I know nothing.\";\n",
    "var counter = 0;\n",
    "\n",
    "var memories = memory.SearchAsync(memoryCollectionName, ask, limit: 5, minRelevanceScore: 0.77);\n",
    "\n",
    "await foreach (MemoryQueryResult memoryResult in memories)\n",
    "{\n",
    "    if (counter == 0) { relatedMemory = memoryResult.Metadata.Text; }\n",
    "    Console.WriteLine($\"Result {++counter}:\\n  >> {memoryResult.Metadata.Id}\\n  Text: {memoryResult.Metadata.Text}  Relevance: {memoryResult.Relevance}\\n\");\n",
    "}"
   ]
  },
  {
   "cell_type": "code",
   "execution_count": null,
   "metadata": {
    "dotnet_interactive": {
     "language": "csharp"
    },
    "polyglot_notebook": {
     "kernelName": "csharp"
    },
    "vscode": {
     "languageId": "polyglot-notebook"
    }
   },
   "outputs": [],
   "source": [
    "var executionSettings = new OpenAIPromptExecutionSettings{ MaxTokens= 100, Temperature = 0.8, TopP= 1 };\n",
    "var myFunction = kernel.CreateFunctionFromPrompt(@\"\n",
    "    {{$input}}\n",
    "    Tell me about me and my work history in less than 70 characters.\n",
    "    \",\n",
    "    executionSettings);\n",
    "var result = await kernel.InvokeAsync(myFunction, new(){ [\"input\"] = relatedMemory });\n",
    "Console.WriteLine(result);"
   ]
  }
 ],
 "metadata": {
  "language_info": {
   "name": "python"
  }
 },
 "nbformat": 4,
 "nbformat_minor": 2
}
