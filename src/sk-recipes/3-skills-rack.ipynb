{
 "cells": [
  {
   "cell_type": "code",
   "execution_count": null,
   "metadata": {
    "dotnet_interactive": {
     "language": "csharp"
    },
    "polyglot_notebook": {
     "kernelName": "csharp"
    },
    "vscode": {
     "languageId": "polyglot-notebook"
    }
   },
   "outputs": [],
   "source": [
    "#r \"nuget: Microsoft.SemanticKernel, 1.4.0\"\n",
    "\n",
    "#!import ./config/Settings.cs\n",
    "\n",
    "using Microsoft.SemanticKernel;\n",
    "using System.IO;\n",
    "\n",
    "var kernelBuilder = Microsoft.SemanticKernel.Kernel.CreateBuilder();\n",
    "\n",
    "// Grab the locally stored credentials from the settings.json file. \n",
    "// Name the service as \"davinci\" — assuming that you're using one of the davinci completion models. \n",
    "var (useAzureOpenAI, model, azureEndpoint, apiKey, orgId) = Settings.LoadFromFile();\n",
    "\n",
    "if (useAzureOpenAI)\n",
    "    kernelBuilder.AddAzureOpenAIChatCompletion(model, azureEndpoint, apiKey);\n",
    "else\n",
    "    kernelBuilder.AddOpenAIChatCompletion(model, apiKey, orgId);\n",
    "\n",
    "var kernel = kernelBuilder.Build();"
   ]
  },
  {
   "cell_type": "code",
   "execution_count": null,
   "metadata": {
    "dotnet_interactive": {
     "language": "csharp"
    },
    "polyglot_notebook": {
     "kernelName": "csharp"
    },
    "vscode": {
     "languageId": "polyglot-notebook"
    }
   },
   "outputs": [],
   "source": [
    "// Load the Skills Directory\n",
    "var skillsDirectory = Path.Combine(System.IO.Directory.GetCurrentDirectory(), \"skills\");\n",
    "\n",
    "// Load the FunSkill from the Skills Directory\n",
    "var mySkill = kernel.ImportPluginFromPromptDirectory(Path.Combine(skillsDirectory, \"FunSkill\"));"
   ]
  },
  {
   "cell_type": "code",
   "execution_count": null,
   "metadata": {
    "dotnet_interactive": {
     "language": "csharp"
    },
    "polyglot_notebook": {
     "kernelName": "csharp"
    },
    "vscode": {
     "languageId": "polyglot-notebook"
    }
   },
   "outputs": [],
   "source": [
    "// The default input variable \n",
    "var myInput = \"time travel to dinosaur age\";\n",
    "\n",
    "// Run the Function called Joke with the default parameter of $input=\n",
    "KernelArguments variables = new KernelArguments {\n",
    "    { \"input\", myInput }\n",
    "};\n",
    "var result = await kernel.InvokeAsync(mySkill[\"Joke\"], variables);\n",
    "\n",
    "// Return the result to the Notebook\n",
    "Console.WriteLine(result);"
   ]
  },
  {
   "cell_type": "code",
   "execution_count": null,
   "metadata": {
    "dotnet_interactive": {
     "language": "csharp"
    },
    "polyglot_notebook": {
     "kernelName": "csharp"
    },
    "vscode": {
     "languageId": "polyglot-notebook"
    }
   },
   "outputs": [],
   "source": [
    "// THIS IS NEW!\n",
    "var myContext = new KernelArguments();\n",
    "\n",
    "// The variables are manually set when you use a ContextVariables object\n",
    "myContext.Add(\"input\", \"going to the department store\"); \n",
    "myContext.Add(\"audience_type\", \"snobby people\"); \n",
    "\n",
    "var myResult = await kernel.InvokeAsync(mySkill[\"Joke\"], myContext);\n",
    "\n",
    "Console.WriteLine(myResult);"
   ]
  },
  {
   "cell_type": "code",
   "execution_count": null,
   "metadata": {
    "dotnet_interactive": {
     "language": "csharp"
    },
    "polyglot_notebook": {
     "kernelName": "csharp"
    },
    "vscode": {
     "languageId": "polyglot-notebook"
    }
   },
   "outputs": [],
   "source": [
    "// Load the Limerick function from the FunSkill\n",
    "var myContext = new KernelArguments(); \n",
    "myContext.Add(\"name\", \"Marie Curie\"); \n",
    "myContext.Add(\"who_is_name\", \"the great scientist\"); \n",
    "\n",
    "var myResult = await kernel.InvokeAsync(mySkill[\"Limerick\"], myContext);\n",
    "\n",
    "Console.WriteLine(myResult);"
   ]
  }
 ],
 "metadata": {
  "language_info": {
   "name": "python"
  }
 },
 "nbformat": 4,
 "nbformat_minor": 2
}
