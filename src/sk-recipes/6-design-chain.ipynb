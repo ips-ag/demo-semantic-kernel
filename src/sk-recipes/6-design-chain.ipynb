{
 "cells": [
  {
   "cell_type": "code",
   "execution_count": null,
   "metadata": {
    "dotnet_interactive": {
     "language": "csharp"
    },
    "polyglot_notebook": {
     "kernelName": "csharp"
    },
    "vscode": {
     "languageId": "polyglot-notebook"
    }
   },
   "outputs": [],
   "source": [
    "#r \"nuget: Microsoft.SemanticKernel, 1.4.0\"\n",
    "\n",
    "#!import ./config/Settings.cs\n",
    "\n",
    "using Microsoft.SemanticKernel;\n",
    "using System.IO;\n",
    "\n",
    "var kernelBuilder = Microsoft.SemanticKernel.Kernel.CreateBuilder();\n",
    "\n",
    "// Grab the locally stored credentials from the settings.json file. \n",
    "// Name the service as \"davinci\" — assuming that you're using one of the davinci completion models. \n",
    "var (useAzureOpenAI, model, azureEndpoint, apiKey, orgId) = Settings.LoadFromFile();\n",
    "\n",
    "if (useAzureOpenAI)\n",
    "    kernelBuilder.AddAzureOpenAIChatCompletion(model, azureEndpoint, apiKey);\n",
    "else\n",
    "    kernelBuilder.AddOpenAIChatCompletion(model, apiKey, orgId);\n",
    "\n",
    "var kernel = kernelBuilder.Build();"
   ]
  },
  {
   "cell_type": "code",
   "execution_count": null,
   "metadata": {
    "dotnet_interactive": {
     "language": "csharp"
    },
    "polyglot_notebook": {
     "kernelName": "csharp"
    },
    "vscode": {
     "languageId": "polyglot-notebook"
    }
   },
   "outputs": [],
   "source": [
    "// Load the Skills Directory\n",
    "var skillsDirectory = Path.Combine(System.IO.Directory.GetCurrentDirectory(), \"skills\");\n",
    "\n",
    "// Load the EmpathizeSkill from the Skills Directory\n",
    "\n",
    "var skillDT = kernel.ImportPluginFromPromptDirectory(Path.Combine(skillsDirectory, \"DesignThinkingSkill\"));"
   ]
  },
  {
   "cell_type": "code",
   "execution_count": null,
   "metadata": {
    "dotnet_interactive": {
     "language": "csharp"
    },
    "polyglot_notebook": {
     "kernelName": "csharp"
    },
    "vscode": {
     "languageId": "polyglot-notebook"
    }
   },
   "outputs": [],
   "source": [
    "using System.Text.Json;\n",
    "using System.Text.Json.Serialization;\n",
    "\n",
    "// The default input variable \n",
    "var input = @\"\n",
    "Customer 1: The power button on my phone is broken. The warranty is still valid.\n",
    "Customer 2: My display stopped working.\n",
    "Customer 3: The customer service rep didn't answer my email.\n",
    "Customer 4: Every time I call customer support I get no answer.\n",
    "Customer 5: The display screen cracked and it's still under warranty.\n",
    "Customer 6: My power button fell off the phone. That's ridiculous.\n",
    "Customer 7: I'm so frustrated with this company.\n",
    "Customer 8: When I use the power button too much, it stops working.\n",
    "\";\n",
    "\n",
    "var empathyResult = await kernel.InvokeAsync(skillDT[\"Empathize\"], new(){ [\"input\"] = input });\n",
    "\n",
    "Console.WriteLine(empathyResult);"
   ]
  },
  {
   "cell_type": "code",
   "execution_count": null,
   "metadata": {
    "dotnet_interactive": {
     "language": "csharp"
    },
    "polyglot_notebook": {
     "kernelName": "csharp"
    },
    "vscode": {
     "languageId": "polyglot-notebook"
    }
   },
   "outputs": [],
   "source": [
    "var defineResult = await kernel.InvokeAsync(skillDT[\"Define\"], new(){ [\"input\"] = empathyResult.ToString() });\n",
    "\n",
    "Console.WriteLine(defineResult);"
   ]
  },
  {
   "cell_type": "code",
   "execution_count": null,
   "metadata": {
    "dotnet_interactive": {
     "language": "csharp"
    },
    "polyglot_notebook": {
     "kernelName": "csharp"
    },
    "vscode": {
     "languageId": "polyglot-notebook"
    }
   },
   "outputs": [],
   "source": [
    "var ideateResult = await kernel.InvokeAsync(skillDT[\"Ideate\"], new(){ [\"input\"] = defineResult.ToString() });\n",
    "\n",
    "Console.WriteLine(ideateResult.ToString());"
   ]
  },
  {
   "cell_type": "code",
   "execution_count": null,
   "metadata": {
    "dotnet_interactive": {
     "language": "csharp"
    },
    "polyglot_notebook": {
     "kernelName": "csharp"
    },
    "vscode": {
     "languageId": "polyglot-notebook"
    }
   },
   "outputs": [],
   "source": [
    "#r \"nuget: Markdig.Signed, 0.34.0\"\n",
    "using Microsoft.AspNetCore.Html;\n",
    "using Markdig;\n",
    "using System.Text.Json;\n",
    "using System.Text.Json.Serialization;\n",
    "\n",
    "var input = @\"\n",
    "Customer 1: The power button on my phone is broken. The warranty is still valid.\n",
    "Customer 2: My display stopped working.\n",
    "Customer 3: The customer service rep didn't answer my email.\n",
    "Customer 4: Every time I call customer support I get no answer.\n",
    "Customer 5: The display screen cracked and it's still under warranty.\n",
    "Customer 6: My power button fell off the phone. That's ridiculous.\n",
    "Customer 7: I'm so frustrated with this company.\n",
    "Customer 8: When I use the power button too much, it stops working.\n",
    "\";\n",
    "\n",
    "var myResult = await kernel.InvokeAsync(skillDT[\"Empathize\"], /*skillDT[\"Define\"], skillDT[\"Ideate\"],*/ new(){ [\"input\"] = input });\n",
    "\n",
    "var myPipeline = new MarkdownPipelineBuilder().UseAdvancedExtensions().Build();\n",
    "var myResult2HTML = Markdown.ToHtml(\"# Ideate: 'Design Thinking' directions generated from customer empathy (Empathize) and problem definition (Define)\\n\\n\" + myResult.ToString(), myPipeline);\n",
    "var myHTMLContent = new HtmlContentBuilder();\n",
    "\n",
    "myHTMLContent.AppendHtml(myResult2HTML);\n",
    "myHTMLContent"
   ]
  }
 ],
 "metadata": {
  "language_info": {
   "name": "python"
  }
 },
 "nbformat": 4,
 "nbformat_minor": 2
}
